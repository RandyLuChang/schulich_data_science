{
 "cells": [
  {
   "cell_type": "code",
   "execution_count": 2,
   "metadata": {},
   "outputs": [
    {
     "name": "stderr",
     "output_type": "stream",
     "text": [
      "2023-11-08 21:35:51.076508: I tensorflow/core/platform/cpu_feature_guard.cc:182] This TensorFlow binary is optimized to use available CPU instructions in performance-critical operations.\n",
      "To enable the following instructions: AVX2 AVX512F AVX512_VNNI FMA, in other operations, rebuild TensorFlow with the appropriate compiler flags.\n",
      "/Users/changlu/Library/Python/3.9/lib/python/site-packages/urllib3/__init__.py:34: NotOpenSSLWarning: urllib3 v2.0 only supports OpenSSL 1.1.1+, currently the 'ssl' module is compiled with 'LibreSSL 2.8.3'. See: https://github.com/urllib3/urllib3/issues/3020\n",
      "  warnings.warn(\n"
     ]
    }
   ],
   "source": [
    "import pandas as pd\n",
    "import tensorflow as tf\n",
    "import numpy as np\n",
    "import matplotlib.pyplot as plt"
   ]
  },
  {
   "cell_type": "code",
   "execution_count": 3,
   "metadata": {},
   "outputs": [
    {
     "name": "stdout",
     "output_type": "stream",
     "text": [
      "Defaulting to user installation because normal site-packages is not writeable\n",
      "Requirement already satisfied: tensorflow_datasets in /Users/changlu/Library/Python/3.9/lib/python/site-packages (4.9.3)\n",
      "Requirement already satisfied: array-record in /Users/changlu/Library/Python/3.9/lib/python/site-packages (from tensorflow_datasets) (0.4.1)\n",
      "Requirement already satisfied: numpy in /Users/changlu/Library/Python/3.9/lib/python/site-packages (from tensorflow_datasets) (1.24.3)\n",
      "Requirement already satisfied: tensorflow-metadata in /Users/changlu/Library/Python/3.9/lib/python/site-packages (from tensorflow_datasets) (1.14.0)\n",
      "Requirement already satisfied: termcolor in /Users/changlu/Library/Python/3.9/lib/python/site-packages (from tensorflow_datasets) (2.3.0)\n",
      "Requirement already satisfied: toml in /Users/changlu/Library/Python/3.9/lib/python/site-packages (from tensorflow_datasets) (0.10.2)\n",
      "Requirement already satisfied: absl-py in /Users/changlu/Library/Python/3.9/lib/python/site-packages (from tensorflow_datasets) (1.4.0)\n",
      "Requirement already satisfied: wrapt in /Users/changlu/Library/Python/3.9/lib/python/site-packages (from tensorflow_datasets) (1.14.1)\n",
      "Requirement already satisfied: requests>=2.19.0 in /Users/changlu/Library/Python/3.9/lib/python/site-packages (from tensorflow_datasets) (2.31.0)\n",
      "Requirement already satisfied: dm-tree in /Users/changlu/Library/Python/3.9/lib/python/site-packages (from tensorflow_datasets) (0.1.8)\n",
      "Requirement already satisfied: etils[enp,epath,etree]>=0.9.0 in /Users/changlu/Library/Python/3.9/lib/python/site-packages (from tensorflow_datasets) (1.5.2)\n",
      "Requirement already satisfied: protobuf>=3.20 in /Users/changlu/Library/Python/3.9/lib/python/site-packages (from tensorflow_datasets) (3.20.3)\n",
      "Requirement already satisfied: tqdm in /Users/changlu/Library/Python/3.9/lib/python/site-packages (from tensorflow_datasets) (4.66.1)\n",
      "Requirement already satisfied: psutil in /Users/changlu/Library/Python/3.9/lib/python/site-packages (from tensorflow_datasets) (5.9.5)\n",
      "Requirement already satisfied: click in /Users/changlu/Library/Python/3.9/lib/python/site-packages (from tensorflow_datasets) (8.1.7)\n",
      "Requirement already satisfied: promise in /Users/changlu/Library/Python/3.9/lib/python/site-packages (from tensorflow_datasets) (2.3)\n",
      "Requirement already satisfied: typing_extensions in /Users/changlu/Library/Python/3.9/lib/python/site-packages (from etils[enp,epath,etree]>=0.9.0->tensorflow_datasets) (4.5.0)\n",
      "Requirement already satisfied: fsspec in /Users/changlu/Library/Python/3.9/lib/python/site-packages (from etils[enp,epath,etree]>=0.9.0->tensorflow_datasets) (2023.10.0)\n",
      "Requirement already satisfied: zipp in /Users/changlu/Library/Python/3.9/lib/python/site-packages (from etils[enp,epath,etree]>=0.9.0->tensorflow_datasets) (3.15.0)\n",
      "Requirement already satisfied: importlib_resources in /Users/changlu/Library/Python/3.9/lib/python/site-packages (from etils[enp,epath,etree]>=0.9.0->tensorflow_datasets) (5.12.0)\n",
      "Requirement already satisfied: certifi>=2017.4.17 in /Users/changlu/Library/Python/3.9/lib/python/site-packages (from requests>=2.19.0->tensorflow_datasets) (2023.7.22)\n",
      "Requirement already satisfied: urllib3<3,>=1.21.1 in /Users/changlu/Library/Python/3.9/lib/python/site-packages (from requests>=2.19.0->tensorflow_datasets) (2.0.4)\n",
      "Requirement already satisfied: idna<4,>=2.5 in /Users/changlu/Library/Python/3.9/lib/python/site-packages (from requests>=2.19.0->tensorflow_datasets) (3.4)\n",
      "Requirement already satisfied: charset-normalizer<4,>=2 in /Users/changlu/Library/Python/3.9/lib/python/site-packages (from requests>=2.19.0->tensorflow_datasets) (3.2.0)\n",
      "Requirement already satisfied: six in /Library/Developer/CommandLineTools/Library/Frameworks/Python3.framework/Versions/3.9/lib/python3.9/site-packages (from promise->tensorflow_datasets) (1.15.0)\n",
      "Requirement already satisfied: googleapis-common-protos<2,>=1.52.0 in /Users/changlu/Library/Python/3.9/lib/python/site-packages (from tensorflow-metadata->tensorflow_datasets) (1.61.0)\n",
      "\u001b[33mWARNING: You are using pip version 21.2.4; however, version 23.3.1 is available.\n",
      "You should consider upgrading via the '/Library/Developer/CommandLineTools/usr/bin/python3 -m pip install --upgrade pip' command.\u001b[0m\n",
      "Note: you may need to restart the kernel to use updated packages.\n"
     ]
    }
   ],
   "source": [
    "pip install tensorflow_datasets"
   ]
  },
  {
   "cell_type": "code",
   "execution_count": 4,
   "metadata": {},
   "outputs": [
    {
     "name": "stderr",
     "output_type": "stream",
     "text": [
      "/Users/changlu/Library/Python/3.9/lib/python/site-packages/tqdm/auto.py:21: TqdmWarning: IProgress not found. Please update jupyter and ipywidgets. See https://ipywidgets.readthedocs.io/en/stable/user_install.html\n",
      "  from .autonotebook import tqdm as notebook_tqdm\n"
     ]
    }
   ],
   "source": [
    "import tensorflow_datasets as tfds"
   ]
  },
  {
   "cell_type": "code",
   "execution_count": 5,
   "metadata": {},
   "outputs": [],
   "source": [
    "(train,test)= tfds.load('mnist',\n",
    "                             split = ['train','test'])"
   ]
  },
  {
   "cell_type": "code",
   "execution_count": 6,
   "metadata": {},
   "outputs": [
    {
     "data": {
      "text/plain": [
       "<_PrefetchDataset element_spec={'image': TensorSpec(shape=(28, 28, 1), dtype=tf.uint8, name=None), 'label': TensorSpec(shape=(), dtype=tf.int64, name=None)}>"
      ]
     },
     "execution_count": 6,
     "metadata": {},
     "output_type": "execute_result"
    }
   ],
   "source": [
    "train"
   ]
  },
  {
   "cell_type": "code",
   "execution_count": 7,
   "metadata": {},
   "outputs": [
    {
     "data": {
      "text/plain": [
       "<_PrefetchDataset element_spec={'image': TensorSpec(shape=(28, 28, 1), dtype=tf.uint8, name=None), 'label': TensorSpec(shape=(), dtype=tf.int64, name=None)}>"
      ]
     },
     "execution_count": 7,
     "metadata": {},
     "output_type": "execute_result"
    }
   ],
   "source": [
    "test"
   ]
  },
  {
   "cell_type": "code",
   "execution_count": 8,
   "metadata": {},
   "outputs": [],
   "source": [
    "from sklearn.preprocessing import StandardScaler\n",
    "from sklearn.preprocessing import OneHotEncoder"
   ]
  },
  {
   "cell_type": "code",
   "execution_count": 9,
   "metadata": {},
   "outputs": [],
   "source": [
    "def load_dataset(train_size, test_size):\n",
    "    train, test = tf.keras.datasets.mnist.load_data()\n",
    "\n",
    "    # take a sample\n",
    "    train_idx = np.random.randint(low=0, high=train[0].shape[0], size=train_size)\n",
    "    test_idx = np.random.randint(low=0, high=test[0].shape[0], size=test_size)\n",
    "    X_train = train[0][train_idx].reshape(-1,28*28)\n",
    "    y_train = train[1][train_idx].reshape(-1,1)\n",
    "    X_test = test[0][test_idx].reshape(-1,28*28)\n",
    "    y_test = test[1][test_idx].reshape(-1,1)\n",
    "\n",
    "    scale = StandardScaler()\n",
    "    X_train = scale.fit_transform(X_train)\n",
    "    X_test = scale.transform(X_test)\n",
    "\n",
    "    OH = OneHotEncoder(categories='auto', sparse=False)\n",
    "    y_train = OH.fit_transform(y_train)\n",
    "    y_test = OH.transform(y_test)\n",
    "\n",
    "    print('X_train:',X_train.shape)\n",
    "    print('y_train:',y_train.shape)\n",
    "    print('X_test:',X_test.shape)\n",
    "    print('y_test:',y_test.shape)\n",
    "    print('Min:', X_train.min())\n",
    "    print('Max:', X_train.max())\n",
    "\n",
    "    return X_train, X_test, y_train, y_test"
   ]
  },
  {
   "cell_type": "code",
   "execution_count": 10,
   "metadata": {},
   "outputs": [
    {
     "name": "stdout",
     "output_type": "stream",
     "text": [
      "X_train: (10000, 784)\n",
      "y_train: (10000, 10)\n",
      "X_test: (10000, 784)\n",
      "y_test: (10000, 10)\n",
      "Min: -1.2789945556674227\n",
      "Max: 99.99499987502128\n"
     ]
    },
    {
     "name": "stderr",
     "output_type": "stream",
     "text": [
      "/Users/changlu/Library/Python/3.9/lib/python/site-packages/sklearn/preprocessing/_encoders.py:868: FutureWarning: `sparse` was renamed to `sparse_output` in version 1.2 and will be removed in 1.4. `sparse_output` is ignored unless you leave `sparse` to its default value.\n",
      "  warnings.warn(\n"
     ]
    }
   ],
   "source": [
    "X_train, X_test, y_train, y_test = load_dataset(10000,10000)"
   ]
  },
  {
   "cell_type": "markdown",
   "metadata": {},
   "source": [
    "##Optimizing at the initialization stage"
   ]
  },
  {
   "cell_type": "code",
   "execution_count": 11,
   "metadata": {},
   "outputs": [],
   "source": [
    "init = tf.initializers.zeros()\n",
    "activate = 'relu'\n",
    "optimizer = tf.keras.optimizers.SGD(learning_rate = 0.01)"
   ]
  },
  {
   "cell_type": "code",
   "execution_count": 12,
   "metadata": {},
   "outputs": [],
   "source": [
    "from tensorflow.keras import layers"
   ]
  },
  {
   "cell_type": "code",
   "execution_count": 13,
   "metadata": {},
   "outputs": [],
   "source": [
    "def simple_model(initializer, activation='relu'):\n",
    "    return tf.keras.Sequential([layers.Dense(32, activation, input_shape=(784,), kernel_initializer=initializer),\n",
    "                                layers.Dense(32, activation, kernel_initializer=initializer),\n",
    "                                layers.Dense(32, activation, kernel_initializer=initializer),\n",
    "                                layers.Dense(32, activation, kernel_initializer=initializer),\n",
    "                                layers.Dense(10, activation = 'softmax', kernel_initializer=tf.keras.initializers.glorot_normal())\n",
    "\n",
    "\n",
    "\n",
    "    ])"
   ]
  },
  {
   "cell_type": "code",
   "execution_count": 14,
   "metadata": {},
   "outputs": [],
   "source": [
    "model_zeros = simple_model(init, activate)"
   ]
  },
  {
   "cell_type": "code",
   "execution_count": 15,
   "metadata": {},
   "outputs": [
    {
     "name": "stdout",
     "output_type": "stream",
     "text": [
      "Epoch 1/10\n",
      "4/4 [==============================] - 1s 142ms/step - loss: 2.3026 - accuracy: 0.1084 - val_loss: 2.3026 - val_accuracy: 0.1130\n",
      "Epoch 2/10\n",
      "4/4 [==============================] - 0s 30ms/step - loss: 2.3026 - accuracy: 0.1095 - val_loss: 2.3026 - val_accuracy: 0.0980\n",
      "Epoch 3/10\n",
      "4/4 [==============================] - 0s 31ms/step - loss: 2.3026 - accuracy: 0.1050 - val_loss: 2.3026 - val_accuracy: 0.0980\n",
      "Epoch 4/10\n",
      "4/4 [==============================] - 0s 31ms/step - loss: 2.3025 - accuracy: 0.1050 - val_loss: 2.3026 - val_accuracy: 0.1130\n",
      "Epoch 5/10\n",
      "4/4 [==============================] - 0s 31ms/step - loss: 2.3025 - accuracy: 0.1095 - val_loss: 2.3026 - val_accuracy: 0.1130\n",
      "Epoch 6/10\n",
      "4/4 [==============================] - 0s 33ms/step - loss: 2.3025 - accuracy: 0.1095 - val_loss: 2.3025 - val_accuracy: 0.1130\n",
      "Epoch 7/10\n",
      "4/4 [==============================] - 0s 33ms/step - loss: 2.3025 - accuracy: 0.1095 - val_loss: 2.3025 - val_accuracy: 0.1130\n",
      "Epoch 8/10\n",
      "4/4 [==============================] - 0s 31ms/step - loss: 2.3025 - accuracy: 0.1095 - val_loss: 2.3025 - val_accuracy: 0.1130\n",
      "Epoch 9/10\n",
      "4/4 [==============================] - 0s 33ms/step - loss: 2.3025 - accuracy: 0.1095 - val_loss: 2.3025 - val_accuracy: 0.1130\n",
      "Epoch 10/10\n",
      "4/4 [==============================] - 0s 34ms/step - loss: 2.3025 - accuracy: 0.1095 - val_loss: 2.3025 - val_accuracy: 0.1130\n"
     ]
    },
    {
     "data": {
      "text/plain": [
       "<keras.src.callbacks.History at 0x13d7bca30>"
      ]
     },
     "execution_count": 15,
     "metadata": {},
     "output_type": "execute_result"
    }
   ],
   "source": [
    "model_zeros.compile(optimizer=optimizer, loss='categorical_crossentropy', metrics=['accuracy'])\n",
    "model_zeros.fit(X_train, y_train, epochs=10, batch_size=3200, validation_data=(X_test, y_test))"
   ]
  },
  {
   "cell_type": "code",
   "execution_count": 16,
   "metadata": {},
   "outputs": [
    {
     "name": "stdout",
     "output_type": "stream",
     "text": [
      "Epoch 1/10\n"
     ]
    },
    {
     "name": "stderr",
     "output_type": "stream",
     "text": [
      "/Users/changlu/Library/Python/3.9/lib/python/site-packages/keras/src/initializers/initializers.py:120: UserWarning: The initializer RandomNormal is unseeded and being called multiple times, which will return identical values each time (even if the initializer is unseeded). Please update your code to provide a seed to the initializer, or avoid using the same initializer instance more than once.\n",
      "  warnings.warn(\n"
     ]
    },
    {
     "name": "stdout",
     "output_type": "stream",
     "text": [
      "4/4 [==============================] - 1s 147ms/step - loss: 2.3026 - accuracy: 0.1014 - val_loss: 2.3027 - val_accuracy: 0.1034\n",
      "Epoch 2/10\n",
      "4/4 [==============================] - 0s 32ms/step - loss: 2.3024 - accuracy: 0.1125 - val_loss: 2.3026 - val_accuracy: 0.1195\n",
      "Epoch 3/10\n",
      "4/4 [==============================] - 0s 34ms/step - loss: 2.3023 - accuracy: 0.1249 - val_loss: 2.3025 - val_accuracy: 0.1266\n",
      "Epoch 4/10\n",
      "4/4 [==============================] - 0s 33ms/step - loss: 2.3022 - accuracy: 0.1366 - val_loss: 2.3024 - val_accuracy: 0.1360\n",
      "Epoch 5/10\n",
      "4/4 [==============================] - 0s 37ms/step - loss: 2.3021 - accuracy: 0.1423 - val_loss: 2.3024 - val_accuracy: 0.1337\n",
      "Epoch 6/10\n",
      "4/4 [==============================] - 0s 35ms/step - loss: 2.3020 - accuracy: 0.1442 - val_loss: 2.3023 - val_accuracy: 0.1368\n",
      "Epoch 7/10\n",
      "4/4 [==============================] - 0s 33ms/step - loss: 2.3020 - accuracy: 0.1444 - val_loss: 2.3022 - val_accuracy: 0.1409\n",
      "Epoch 8/10\n",
      "4/4 [==============================] - 0s 34ms/step - loss: 2.3019 - accuracy: 0.1503 - val_loss: 2.3022 - val_accuracy: 0.1446\n",
      "Epoch 9/10\n",
      "4/4 [==============================] - 0s 32ms/step - loss: 2.3018 - accuracy: 0.1522 - val_loss: 2.3021 - val_accuracy: 0.1455\n",
      "Epoch 10/10\n",
      "4/4 [==============================] - 0s 36ms/step - loss: 2.3018 - accuracy: 0.1536 - val_loss: 2.3020 - val_accuracy: 0.1481\n"
     ]
    },
    {
     "data": {
      "text/plain": [
       "<keras.src.callbacks.History at 0x13df81e50>"
      ]
     },
     "execution_count": 16,
     "metadata": {},
     "output_type": "execute_result"
    }
   ],
   "source": [
    "init = tf.initializers.random_normal()\n",
    "activate = 'relu'\n",
    "optimizer = tf.keras.optimizers.SGD(learning_rate=0.01)\n",
    "model_normal = simple_model(init, activate)\n",
    "model_normal.compile(optimizer=optimizer, loss='categorical_crossentropy', metrics=['accuracy'])\n",
    "model_normal.fit(X_train, y_train, epochs=10, batch_size=3200, validation_data=(X_test, y_test))"
   ]
  },
  {
   "cell_type": "code",
   "execution_count": 17,
   "metadata": {},
   "outputs": [
    {
     "name": "stdout",
     "output_type": "stream",
     "text": [
      "Epoch 1/10\n"
     ]
    },
    {
     "name": "stderr",
     "output_type": "stream",
     "text": [
      "/Users/changlu/Library/Python/3.9/lib/python/site-packages/keras/src/initializers/initializers.py:120: UserWarning: The initializer GlorotUniform is unseeded and being called multiple times, which will return identical values each time (even if the initializer is unseeded). Please update your code to provide a seed to the initializer, or avoid using the same initializer instance more than once.\n",
      "  warnings.warn(\n"
     ]
    },
    {
     "name": "stdout",
     "output_type": "stream",
     "text": [
      "4/4 [==============================] - 1s 134ms/step - loss: 2.3510 - accuracy: 0.1062 - val_loss: 2.3645 - val_accuracy: 0.0993\n",
      "Epoch 2/10\n",
      "4/4 [==============================] - 0s 31ms/step - loss: 2.3413 - accuracy: 0.1083 - val_loss: 2.3554 - val_accuracy: 0.1025\n",
      "Epoch 3/10\n",
      "4/4 [==============================] - 0s 36ms/step - loss: 2.3328 - accuracy: 0.1116 - val_loss: 2.3464 - val_accuracy: 0.1062\n",
      "Epoch 4/10\n",
      "4/4 [==============================] - 0s 35ms/step - loss: 2.3244 - accuracy: 0.1154 - val_loss: 2.3379 - val_accuracy: 0.1118\n",
      "Epoch 5/10\n",
      "4/4 [==============================] - 0s 36ms/step - loss: 2.3165 - accuracy: 0.1191 - val_loss: 2.3304 - val_accuracy: 0.1146\n",
      "Epoch 6/10\n",
      "4/4 [==============================] - 0s 39ms/step - loss: 2.3094 - accuracy: 0.1236 - val_loss: 2.3232 - val_accuracy: 0.1189\n",
      "Epoch 7/10\n",
      "4/4 [==============================] - 0s 36ms/step - loss: 2.3026 - accuracy: 0.1286 - val_loss: 2.3164 - val_accuracy: 0.1247\n",
      "Epoch 8/10\n",
      "4/4 [==============================] - 0s 35ms/step - loss: 2.2961 - accuracy: 0.1346 - val_loss: 2.3097 - val_accuracy: 0.1317\n",
      "Epoch 9/10\n",
      "4/4 [==============================] - 0s 34ms/step - loss: 2.2897 - accuracy: 0.1375 - val_loss: 2.3033 - val_accuracy: 0.1373\n",
      "Epoch 10/10\n",
      "4/4 [==============================] - 0s 35ms/step - loss: 2.2834 - accuracy: 0.1426 - val_loss: 2.2971 - val_accuracy: 0.1439\n"
     ]
    },
    {
     "data": {
      "text/plain": [
       "<keras.src.callbacks.History at 0x13e0e2460>"
      ]
     },
     "execution_count": 17,
     "metadata": {},
     "output_type": "execute_result"
    }
   ],
   "source": [
    "init = tf.initializers.glorot_uniform()\n",
    "activate = 'relu'\n",
    "optimizer = tf.keras.optimizers.SGD(learning_rate=0.01)\n",
    "model_glorotu = simple_model(init, activate)\n",
    "model_glorotu.compile(optimizer=optimizer, loss='categorical_crossentropy', metrics=['accuracy'])\n",
    "model_glorotu.fit(X_train, y_train, epochs=10, batch_size=3200, validation_data=(X_test, y_test))\n"
   ]
  },
  {
   "cell_type": "code",
   "execution_count": 18,
   "metadata": {},
   "outputs": [
    {
     "name": "stderr",
     "output_type": "stream",
     "text": [
      "/Users/changlu/Library/Python/3.9/lib/python/site-packages/keras/src/initializers/initializers.py:120: UserWarning: The initializer HeUniform is unseeded and being called multiple times, which will return identical values each time (even if the initializer is unseeded). Please update your code to provide a seed to the initializer, or avoid using the same initializer instance more than once.\n",
      "  warnings.warn(\n"
     ]
    },
    {
     "name": "stdout",
     "output_type": "stream",
     "text": [
      "Epoch 1/10\n",
      "4/4 [==============================] - 1s 131ms/step - loss: 3.7768 - accuracy: 0.1038 - val_loss: 2.9480 - val_accuracy: 0.1210\n",
      "Epoch 2/10\n",
      "4/4 [==============================] - 0s 37ms/step - loss: 2.7320 - accuracy: 0.1329 - val_loss: 2.6099 - val_accuracy: 0.1701\n",
      "Epoch 3/10\n",
      "4/4 [==============================] - 0s 35ms/step - loss: 2.4722 - accuracy: 0.1743 - val_loss: 2.4306 - val_accuracy: 0.2144\n",
      "Epoch 4/10\n",
      "4/4 [==============================] - 0s 38ms/step - loss: 2.3121 - accuracy: 0.2155 - val_loss: 2.2952 - val_accuracy: 0.2524\n",
      "Epoch 5/10\n",
      "4/4 [==============================] - 0s 37ms/step - loss: 2.1862 - accuracy: 0.2519 - val_loss: 2.1894 - val_accuracy: 0.2954\n",
      "Epoch 6/10\n",
      "4/4 [==============================] - 0s 38ms/step - loss: 2.0856 - accuracy: 0.2882 - val_loss: 2.0996 - val_accuracy: 0.3297\n",
      "Epoch 7/10\n",
      "4/4 [==============================] - 0s 36ms/step - loss: 2.0010 - accuracy: 0.3246 - val_loss: 2.0184 - val_accuracy: 0.3636\n",
      "Epoch 8/10\n",
      "4/4 [==============================] - 0s 40ms/step - loss: 1.9250 - accuracy: 0.3587 - val_loss: 1.9505 - val_accuracy: 0.3961\n",
      "Epoch 9/10\n",
      "4/4 [==============================] - 0s 38ms/step - loss: 1.8584 - accuracy: 0.3891 - val_loss: 1.8890 - val_accuracy: 0.4275\n",
      "Epoch 10/10\n",
      "4/4 [==============================] - 0s 33ms/step - loss: 1.7976 - accuracy: 0.4161 - val_loss: 1.8325 - val_accuracy: 0.4529\n"
     ]
    },
    {
     "data": {
      "text/plain": [
       "<keras.src.callbacks.History at 0x13e2554f0>"
      ]
     },
     "execution_count": 18,
     "metadata": {},
     "output_type": "execute_result"
    }
   ],
   "source": [
    "init = tf.initializers.he_uniform()\n",
    "activate = 'relu'\n",
    "optimizer = tf.keras.optimizers.SGD(learning_rate=0.01)\n",
    "model_heu = simple_model(init, activate)\n",
    "model_heu.compile(optimizer=optimizer, loss='categorical_crossentropy', metrics=['accuracy'])\n",
    "model_heu.fit(X_train, y_train, epochs=10, batch_size=3200, validation_data=(X_test, y_test))"
   ]
  },
  {
   "cell_type": "code",
   "execution_count": 19,
   "metadata": {},
   "outputs": [
    {
     "data": {
      "text/plain": [
       "Text(0, 0.5, 'Validation Accuracy')"
      ]
     },
     "execution_count": 19,
     "metadata": {},
     "output_type": "execute_result"
    },
    {
     "data": {
      "image/png": "[encoded data removed]",
      "text/plain": [
       "<Figure size 640x480 with 1 Axes>"
      ]
     },
     "metadata": {},
     "output_type": "display_data"
    }
   ],
   "source": [
    "for i in [model_heu, model_normal, model_glorotu, model_zeros]:\n",
    "    plt.plot(i.history.history['val_accuracy'], label=i.get_config()['layers'][1]['config']['kernel_initializer']['class_name'])\n",
    "\n",
    "plt.legend()\n",
    "plt.xlabel('Epoch')\n",
    "plt.ylabel('Validation Accuracy')"
   ]
  },
  {
   "cell_type": "code",
   "execution_count": 20,
   "metadata": {},
   "outputs": [],
   "source": [
    "def simple_model_bn(initializer = 'he_uniform', activation='relu'):\n",
    "    return tf.keras.Sequential([layers.Dense(32, activation, input_shape=(784,), kernel_initializer=initializer),\n",
    "                                layers.BatchNormalization(trainable=True, scale=True, center=True),\n",
    "                                layers.Dense(32, activation, kernel_initializer=initializer),\n",
    "                                layers.BatchNormalization(trainable=True, scale=True, center=True),\n",
    "                                layers.Dense(32, activation, kernel_initializer=initializer),\n",
    "                                layers.BatchNormalization(trainable=True, scale=True, center=True),\n",
    "                                layers.Dense(32, activation, kernel_initializer=initializer),\n",
    "                                layers.BatchNormalization(trainable=True, scale=True, center=True),\n",
    "                                layers.Dense(10, activation = 'softmax', kernel_initializer=tf.keras.initializers.glorot_normal())\n",
    "\n",
    "\n",
    "\n",
    "    ])"
   ]
  },
  {
   "cell_type": "code",
   "execution_count": 21,
   "metadata": {},
   "outputs": [
    {
     "name": "stdout",
     "output_type": "stream",
     "text": [
      "Model: \"sequential_4\"\n",
      "_________________________________________________________________\n",
      " Layer (type)                Output Shape              Param #   \n",
      "=================================================================\n",
      " dense_20 (Dense)            (None, 32)                25120     \n",
      "                                                                 \n",
      " batch_normalization (Batch  (None, 32)                128       \n",
      " Normalization)                                                  \n",
      "                                                                 \n",
      " dense_21 (Dense)            (None, 32)                1056      \n",
      "                                                                 \n",
      " batch_normalization_1 (Bat  (None, 32)                128       \n",
      " chNormalization)                                                \n",
      "                                                                 \n",
      " dense_22 (Dense)            (None, 32)                1056      \n",
      "                                                                 \n",
      " batch_normalization_2 (Bat  (None, 32)                128       \n",
      " chNormalization)                                                \n",
      "                                                                 \n",
      " dense_23 (Dense)            (None, 32)                1056      \n",
      "                                                                 \n",
      " batch_normalization_3 (Bat  (None, 32)                128       \n",
      " chNormalization)                                                \n",
      "                                                                 \n",
      " dense_24 (Dense)            (None, 10)                330       \n",
      "                                                                 \n",
      "=================================================================\n",
      "Total params: 29130 (113.79 KB)\n",
      "Trainable params: 28874 (112.79 KB)\n",
      "Non-trainable params: 256 (1.00 KB)\n",
      "_________________________________________________________________\n"
     ]
    }
   ],
   "source": [
    "simple_model_bn().summary()"
   ]
  },
  {
   "cell_type": "code",
   "execution_count": 22,
   "metadata": {},
   "outputs": [
    {
     "name": "stdout",
     "output_type": "stream",
     "text": [
      "Epoch 1/10\n",
      "4/4 [==============================] - 2s 239ms/step - loss: 2.7006 - accuracy: 0.1358 - val_loss: 2.3005 - val_accuracy: 0.1480\n",
      "Epoch 2/10\n",
      "4/4 [==============================] - 0s 43ms/step - loss: 2.2114 - accuracy: 0.2889 - val_loss: 2.2989 - val_accuracy: 0.2271\n",
      "Epoch 3/10\n",
      "4/4 [==============================] - 0s 49ms/step - loss: 1.8981 - accuracy: 0.3817 - val_loss: 2.2972 - val_accuracy: 0.2906\n",
      "Epoch 4/10\n",
      "4/4 [==============================] - 0s 46ms/step - loss: 1.6790 - accuracy: 0.4484 - val_loss: 2.2955 - val_accuracy: 0.3208\n",
      "Epoch 5/10\n",
      "4/4 [==============================] - 0s 47ms/step - loss: 1.5269 - accuracy: 0.4995 - val_loss: 2.2936 - val_accuracy: 0.3392\n",
      "Epoch 6/10\n",
      "4/4 [==============================] - 0s 46ms/step - loss: 1.4073 - accuracy: 0.5394 - val_loss: 2.2917 - val_accuracy: 0.3405\n",
      "Epoch 7/10\n",
      "4/4 [==============================] - 0s 48ms/step - loss: 1.3149 - accuracy: 0.5779 - val_loss: 2.2895 - val_accuracy: 0.3504\n",
      "Epoch 8/10\n",
      "4/4 [==============================] - 0s 44ms/step - loss: 1.2361 - accuracy: 0.6107 - val_loss: 2.2873 - val_accuracy: 0.3437\n",
      "Epoch 9/10\n",
      "4/4 [==============================] - 0s 47ms/step - loss: 1.1676 - accuracy: 0.6334 - val_loss: 2.2848 - val_accuracy: 0.3587\n",
      "Epoch 10/10\n",
      "4/4 [==============================] - 0s 45ms/step - loss: 1.1077 - accuracy: 0.6591 - val_loss: 2.2822 - val_accuracy: 0.3586\n"
     ]
    },
    {
     "data": {
      "text/plain": [
       "<keras.src.callbacks.History at 0x13e5e5b20>"
      ]
     },
     "execution_count": 22,
     "metadata": {},
     "output_type": "execute_result"
    }
   ],
   "source": [
    "init = tf.keras.initializers.random_normal()\n",
    "activate = 'relu'\n",
    "\n",
    "optimizer = tf.keras.optimizers.SGD(0.01)\n",
    "model_bn = simple_model_bn(init, activate)\n",
    "model_bn.compile(optimizer=optimizer, loss='categorical_crossentropy', metrics=['accuracy'])\n",
    "model_bn.fit(X_train, y_train, epochs=10, batch_size=3200, validation_data = (X_test, y_test))"
   ]
  },
  {
   "cell_type": "code",
   "execution_count": 23,
   "metadata": {},
   "outputs": [
    {
     "name": "stderr",
     "output_type": "stream",
     "text": [
      "/Users/changlu/Library/Python/3.9/lib/python/site-packages/keras/src/initializers/initializers.py:120: UserWarning: The initializer RandomUniform is unseeded and being called multiple times, which will return identical values each time (even if the initializer is unseeded). Please update your code to provide a seed to the initializer, or avoid using the same initializer instance more than once.\n",
      "  warnings.warn(\n"
     ]
    },
    {
     "name": "stdout",
     "output_type": "stream",
     "text": [
      "Epoch 1/10\n",
      "4/4 [==============================] - 2s 163ms/step - loss: 2.0330 - accuracy: 0.3474 - val_loss: 2.3015 - val_accuracy: 0.1546\n",
      "Epoch 2/10\n",
      "4/4 [==============================] - 0s 48ms/step - loss: 1.1259 - accuracy: 0.6759 - val_loss: 2.3003 - val_accuracy: 0.1043\n",
      "Epoch 3/10\n",
      "4/4 [==============================] - 0s 49ms/step - loss: 0.8280 - accuracy: 0.7753 - val_loss: 2.2992 - val_accuracy: 0.1053\n",
      "Epoch 4/10\n",
      "4/4 [==============================] - 0s 47ms/step - loss: 0.6753 - accuracy: 0.8197 - val_loss: 2.2983 - val_accuracy: 0.1024\n",
      "Epoch 5/10\n",
      "4/4 [==============================] - 0s 47ms/step - loss: 0.5807 - accuracy: 0.8465 - val_loss: 2.2975 - val_accuracy: 0.1028\n",
      "Epoch 6/10\n",
      "4/4 [==============================] - 0s 46ms/step - loss: 0.5156 - accuracy: 0.8657 - val_loss: 2.2965 - val_accuracy: 0.1029\n",
      "Epoch 7/10\n",
      "4/4 [==============================] - 0s 48ms/step - loss: 0.4704 - accuracy: 0.8767 - val_loss: 2.2955 - val_accuracy: 0.1023\n",
      "Epoch 8/10\n",
      "4/4 [==============================] - 0s 48ms/step - loss: 0.4376 - accuracy: 0.8847 - val_loss: 2.2946 - val_accuracy: 0.1029\n",
      "Epoch 9/10\n",
      "4/4 [==============================] - 0s 45ms/step - loss: 0.4022 - accuracy: 0.8967 - val_loss: 2.2938 - val_accuracy: 0.1498\n",
      "Epoch 10/10\n",
      "4/4 [==============================] - 0s 45ms/step - loss: 0.3895 - accuracy: 0.8996 - val_loss: 2.2925 - val_accuracy: 0.1464\n"
     ]
    },
    {
     "data": {
      "text/plain": [
       "<keras.src.callbacks.History at 0x13e272820>"
      ]
     },
     "execution_count": 23,
     "metadata": {},
     "output_type": "execute_result"
    }
   ],
   "source": [
    "init = tf.keras.initializers.random_uniform()\n",
    "activate = 'relu'\n",
    "\n",
    "optimizer = tf.keras.optimizers.Adagrad(learning_rate=0.01)\n",
    "model_bn_ad = simple_model_bn(init, activate)\n",
    "model_bn_ad.compile(optimizer=optimizer, loss='categorical_crossentropy', metrics=['accuracy'])\n",
    "model_bn_ad.fit(X_train, y_train, epochs=10, batch_size=3200, validation_data = (X_test, y_test))"
   ]
  },
  {
   "cell_type": "code",
   "execution_count": 24,
   "metadata": {},
   "outputs": [
    {
     "name": "stdout",
     "output_type": "stream",
     "text": [
      "Epoch 1/10\n",
      "4/4 [==============================] - 3s 166ms/step - loss: 2.0841 - accuracy: 0.3259 - val_loss: 2.2893 - val_accuracy: 0.1810\n",
      "Epoch 2/10\n",
      "4/4 [==============================] - 0s 55ms/step - loss: 0.8617 - accuracy: 0.7288 - val_loss: 2.2406 - val_accuracy: 0.2813\n",
      "Epoch 3/10\n",
      "4/4 [==============================] - 0s 48ms/step - loss: 0.5939 - accuracy: 0.8180 - val_loss: 2.1860 - val_accuracy: 0.3889\n",
      "Epoch 4/10\n",
      "4/4 [==============================] - 0s 47ms/step - loss: 0.4428 - accuracy: 0.8682 - val_loss: 2.1375 - val_accuracy: 0.3948\n",
      "Epoch 5/10\n",
      "4/4 [==============================] - 0s 51ms/step - loss: 0.3441 - accuracy: 0.9020 - val_loss: 2.0952 - val_accuracy: 0.4672\n",
      "Epoch 6/10\n",
      "4/4 [==============================] - 0s 48ms/step - loss: 0.2797 - accuracy: 0.9172 - val_loss: 2.0576 - val_accuracy: 0.4977\n",
      "Epoch 7/10\n",
      "4/4 [==============================] - 0s 48ms/step - loss: 0.2394 - accuracy: 0.9290 - val_loss: 2.0297 - val_accuracy: 0.4645\n",
      "Epoch 8/10\n",
      "4/4 [==============================] - 0s 48ms/step - loss: 0.2042 - accuracy: 0.9390 - val_loss: 2.0025 - val_accuracy: 0.4622\n",
      "Epoch 9/10\n",
      "4/4 [==============================] - 0s 49ms/step - loss: 0.1797 - accuracy: 0.9451 - val_loss: 1.9524 - val_accuracy: 0.5014\n",
      "Epoch 10/10\n",
      "4/4 [==============================] - 0s 49ms/step - loss: 0.1576 - accuracy: 0.9544 - val_loss: 1.9036 - val_accuracy: 0.5696\n"
     ]
    },
    {
     "data": {
      "text/plain": [
       "<keras.src.callbacks.History at 0x13ead3940>"
      ]
     },
     "execution_count": 24,
     "metadata": {},
     "output_type": "execute_result"
    }
   ],
   "source": [
    "init = tf.keras.initializers.random_uniform()\n",
    "activate = 'relu'\n",
    "\n",
    "optimizer = tf.keras.optimizers.Adam(learning_rate=0.01)\n",
    "model_bn_adam = simple_model_bn(init, activate)\n",
    "model_bn_adam.compile(optimizer=optimizer, loss='categorical_crossentropy', metrics=['accuracy'])\n",
    "model_bn_adam.fit(X_train, y_train, epochs=10, batch_size=3200, validation_data = (X_test, y_test))"
   ]
  },
  {
   "cell_type": "code",
   "execution_count": 25,
   "metadata": {},
   "outputs": [],
   "source": [
    "from tensorflow.keras.callbacks import EarlyStopping"
   ]
  },
  {
   "cell_type": "code",
   "execution_count": 26,
   "metadata": {},
   "outputs": [
    {
     "name": "stdout",
     "output_type": "stream",
     "text": [
      "Epoch 1/10\n",
      "4/4 [==============================] - 3s 201ms/step - loss: 2.1370 - accuracy: 0.2961 - val_loss: 2.2970 - val_accuracy: 0.1176\n",
      "Epoch 2/10\n",
      "4/4 [==============================] - 0s 60ms/step - loss: 0.9356 - accuracy: 0.7107 - val_loss: 2.2657 - val_accuracy: 0.1436\n",
      "Epoch 3/10\n",
      "4/4 [==============================] - 0s 50ms/step - loss: 0.6124 - accuracy: 0.8275 - val_loss: 2.2105 - val_accuracy: 0.2369\n",
      "Epoch 4/10\n",
      "4/4 [==============================] - 0s 52ms/step - loss: 0.4562 - accuracy: 0.8665 - val_loss: 2.1461 - val_accuracy: 0.3788\n",
      "Epoch 5/10\n",
      "4/4 [==============================] - 0s 51ms/step - loss: 0.3594 - accuracy: 0.8914 - val_loss: 2.0849 - val_accuracy: 0.4472\n",
      "Epoch 6/10\n",
      "4/4 [==============================] - 0s 51ms/step - loss: 0.3022 - accuracy: 0.9113 - val_loss: 2.0270 - val_accuracy: 0.4802\n",
      "Epoch 7/10\n",
      "4/4 [==============================] - 0s 51ms/step - loss: 0.2549 - accuracy: 0.9278 - val_loss: 1.9759 - val_accuracy: 0.5007\n",
      "Epoch 8/10\n",
      "4/4 [==============================] - 0s 50ms/step - loss: 0.2212 - accuracy: 0.9336 - val_loss: 1.9237 - val_accuracy: 0.5486\n",
      "Epoch 9/10\n",
      "4/4 [==============================] - 0s 48ms/step - loss: 0.1917 - accuracy: 0.9452 - val_loss: 1.8697 - val_accuracy: 0.5647\n",
      "Epoch 10/10\n",
      "4/4 [==============================] - 0s 47ms/step - loss: 0.1674 - accuracy: 0.9524 - val_loss: 1.8243 - val_accuracy: 0.5862\n",
      "Train Acc: 0.6180999875068665 Test Acc: 0.5861999988555908\n"
     ]
    }
   ],
   "source": [
    "init = tf.keras.initializers.random_uniform()\n",
    "activate = 'relu'\n",
    "\n",
    "optimizer = tf.keras.optimizers.Adam(learning_rate=0.01)\n",
    "model_bn_adam = simple_model_bn(init, activate)\n",
    "model_bn_adam.compile(optimizer=optimizer, loss='categorical_crossentropy', metrics=['accuracy'])\n",
    "\n",
    "es = EarlyStopping(monitor='val_loss', mode='min', patience=10, restore_best_weights=True, verbose=1)\n",
    "\n",
    "history = model_bn_adam.fit(X_train, y_train, epochs=10, batch_size=3200, validation_data = (X_test, y_test))\n",
    "\n",
    "_, train_acc = model_bn_adam.evaluate(X_train, y_train, verbose=0)\n",
    "_, test_acc = model_bn_adam.evaluate(X_test, y_test, verbose=0)\n",
    "print('Train Acc:', train_acc, 'Test Acc:', test_acc)"
   ]
  },
  {
   "cell_type": "code",
   "execution_count": 27,
   "metadata": {},
   "outputs": [
    {
     "name": "stdout",
     "output_type": "stream",
     "text": [
      "Restoring model weights from the end of the best epoch: 16.\n",
      "Epoch 26: early stopping\n",
      "Train Acc: 0.9904999732971191 Test Acc: 0.9467999935150146\n"
     ]
    }
   ],
   "source": [
    "init = tf.keras.initializers.random_uniform()\n",
    "activate = 'relu'\n",
    "\n",
    "optimizer = tf.keras.optimizers.Adam(learning_rate=0.01)\n",
    "model_bn_adam = simple_model_bn(init, activate)\n",
    "model_bn_adam.compile(optimizer=optimizer, loss='categorical_crossentropy', metrics=['accuracy'])\n",
    "\n",
    "es = EarlyStopping(monitor='val_loss', mode='min', patience=10, restore_best_weights=True, verbose=1)\n",
    "\n",
    "history = model_bn_adam.fit(X_train, y_train, epochs=2000, callbacks=[es], validation_data = (X_test, y_test), verbose=0)\n",
    "\n",
    "_, train_acc = model_bn_adam.evaluate(X_train, y_train, verbose=0)\n",
    "_, test_acc = model_bn_adam.evaluate(X_test, y_test, verbose=0)\n",
    "print('Train Acc:', train_acc, 'Test Acc:', test_acc)"
   ]
  },
  {
   "cell_type": "code",
   "execution_count": 28,
   "metadata": {},
   "outputs": [
    {
     "name": "stdout",
     "output_type": "stream",
     "text": [
      "Restoring model weights from the end of the best epoch: 7.\n",
      "Epoch 17: early stopping\n",
      "Train Acc: 0.9779000282287598 Test Acc: 0.935699999332428\n"
     ]
    }
   ],
   "source": [
    "init = tf.keras.initializers.random_uniform()\n",
    "activate = 'relu'\n",
    "\n",
    "optimizer = tf.keras.optimizers.Adam(learning_rate=0.01)\n",
    "model_bn_adam = simple_model_bn(init, activate)\n",
    "model_bn_adam.compile(optimizer=optimizer, loss='categorical_crossentropy', metrics=['accuracy'])\n",
    "\n",
    "es = EarlyStopping(monitor='val_loss', mode='min', patience=10, restore_best_weights=True, verbose=1)\n",
    "\n",
    "history = model_bn_adam.fit(X_train, y_train, epochs=2000, callbacks=[es], validation_data = (X_test, y_test), verbose=0)\n",
    "\n",
    "_, train_acc = model_bn_adam.evaluate(X_train, y_train, verbose=0)\n",
    "_, test_acc = model_bn_adam.evaluate(X_test, y_test, verbose=0)\n",
    "print('Train Acc:', train_acc, 'Test Acc:', test_acc)"
   ]
  },
  {
   "cell_type": "code",
   "execution_count": null,
   "metadata": {},
   "outputs": [],
   "source": []
  }
 ],
 "metadata": {
  "kernelspec": {
   "display_name": "Python 3",
   "language": "python",
   "name": "python3"
  },
  "language_info": {
   "codemirror_mode": {
    "name": "ipython",
    "version": 3
   },
   "file_extension": ".py",
   "mimetype": "text/x-python",
   "name": "python",
   "nbconvert_exporter": "python",
   "pygments_lexer": "ipython3",
   "version": "3.9.6"
  }
 },
 "nbformat": 4,
 "nbformat_minor": 2
}
