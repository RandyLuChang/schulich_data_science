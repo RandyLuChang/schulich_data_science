{
 "cells": [
  {
   "cell_type": "code",
   "execution_count": 135,
   "metadata": {},
   "outputs": [],
   "source": [
    "import pandas as pd\n",
    "import numpy as np\n",
    "import matplotlib.pyplot as plt\n",
    "import seaborn as sns"
   ]
  },
  {
   "cell_type": "code",
   "execution_count": 136,
   "metadata": {},
   "outputs": [],
   "source": [
    "df = pd.read_csv(\"/Users/changlu/Downloads/sales_data.csv\")"
   ]
  },
  {
   "cell_type": "code",
   "execution_count": 137,
   "metadata": {},
   "outputs": [
    {
     "data": {
      "text/html": [
       "<div>\n",
       "<style scoped>\n",
       "    .dataframe tbody tr th:only-of-type {\n",
       "        vertical-align: middle;\n",
       "    }\n",
       "\n",
       "    .dataframe tbody tr th {\n",
       "        vertical-align: top;\n",
       "    }\n",
       "\n",
       "    .dataframe thead th {\n",
       "        text-align: right;\n",
       "    }\n",
       "</style>\n",
       "<table border=\"1\" class=\"dataframe\">\n",
       "  <thead>\n",
       "    <tr style=\"text-align: right;\">\n",
       "      <th></th>\n",
       "      <th>Product</th>\n",
       "      <th>Region</th>\n",
       "      <th>Price</th>\n",
       "      <th>Units Sold</th>\n",
       "      <th>Sale Date</th>\n",
       "    </tr>\n",
       "  </thead>\n",
       "  <tbody>\n",
       "    <tr>\n",
       "      <th>0</th>\n",
       "      <td>NaN</td>\n",
       "      <td>Region_6</td>\n",
       "      <td>75.96</td>\n",
       "      <td>10.0</td>\n",
       "      <td>2022-01-01</td>\n",
       "    </tr>\n",
       "    <tr>\n",
       "      <th>1</th>\n",
       "      <td>NaN</td>\n",
       "      <td>Region_1</td>\n",
       "      <td>175.78</td>\n",
       "      <td>8.0</td>\n",
       "      <td>2022-01-02</td>\n",
       "    </tr>\n",
       "    <tr>\n",
       "      <th>2</th>\n",
       "      <td>Product_46</td>\n",
       "      <td>Region_3</td>\n",
       "      <td>20.43</td>\n",
       "      <td>12.0</td>\n",
       "      <td>2022-01-03</td>\n",
       "    </tr>\n",
       "    <tr>\n",
       "      <th>3</th>\n",
       "      <td>Product_36</td>\n",
       "      <td>Region_1</td>\n",
       "      <td>12.77</td>\n",
       "      <td>10.0</td>\n",
       "      <td>2022-01-04</td>\n",
       "    </tr>\n",
       "    <tr>\n",
       "      <th>4</th>\n",
       "      <td>Product_17</td>\n",
       "      <td>Region_6</td>\n",
       "      <td>125.69</td>\n",
       "      <td>6.0</td>\n",
       "      <td>2022-01-05</td>\n",
       "    </tr>\n",
       "    <tr>\n",
       "      <th>...</th>\n",
       "      <td>...</td>\n",
       "      <td>...</td>\n",
       "      <td>...</td>\n",
       "      <td>...</td>\n",
       "      <td>...</td>\n",
       "    </tr>\n",
       "    <tr>\n",
       "      <th>1045</th>\n",
       "      <td>Product_45</td>\n",
       "      <td>Region_7</td>\n",
       "      <td>78.69</td>\n",
       "      <td>8.0</td>\n",
       "      <td>2022-07-28</td>\n",
       "    </tr>\n",
       "    <tr>\n",
       "      <th>1046</th>\n",
       "      <td>Product_1</td>\n",
       "      <td>Region_6</td>\n",
       "      <td>NaN</td>\n",
       "      <td>8.0</td>\n",
       "      <td>2022-08-02</td>\n",
       "    </tr>\n",
       "    <tr>\n",
       "      <th>1047</th>\n",
       "      <td>Product_17</td>\n",
       "      <td>Region_2</td>\n",
       "      <td>114.37</td>\n",
       "      <td>11.0</td>\n",
       "      <td>2023-12-18</td>\n",
       "    </tr>\n",
       "    <tr>\n",
       "      <th>1048</th>\n",
       "      <td>NaN</td>\n",
       "      <td>Region_8</td>\n",
       "      <td>NaN</td>\n",
       "      <td>5.0</td>\n",
       "      <td>2023-12-27</td>\n",
       "    </tr>\n",
       "    <tr>\n",
       "      <th>1049</th>\n",
       "      <td>Product_16</td>\n",
       "      <td>Region_2</td>\n",
       "      <td>69.30</td>\n",
       "      <td>8.0</td>\n",
       "      <td>2024-02-23</td>\n",
       "    </tr>\n",
       "  </tbody>\n",
       "</table>\n",
       "<p>1050 rows × 5 columns</p>\n",
       "</div>"
      ],
      "text/plain": [
       "         Product    Region   Price  Units Sold   Sale Date\n",
       "0            NaN  Region_6   75.96        10.0  2022-01-01\n",
       "1            NaN  Region_1  175.78         8.0  2022-01-02\n",
       "2     Product_46  Region_3   20.43        12.0  2022-01-03\n",
       "3     Product_36  Region_1   12.77        10.0  2022-01-04\n",
       "4     Product_17  Region_6  125.69         6.0  2022-01-05\n",
       "...          ...       ...     ...         ...         ...\n",
       "1045  Product_45  Region_7   78.69         8.0  2022-07-28\n",
       "1046   Product_1  Region_6     NaN         8.0  2022-08-02\n",
       "1047  Product_17  Region_2  114.37        11.0  2023-12-18\n",
       "1048         NaN  Region_8     NaN         5.0  2023-12-27\n",
       "1049  Product_16  Region_2   69.30         8.0  2024-02-23\n",
       "\n",
       "[1050 rows x 5 columns]"
      ]
     },
     "execution_count": 137,
     "metadata": {},
     "output_type": "execute_result"
    }
   ],
   "source": [
    "df"
   ]
  },
  {
   "attachments": {},
   "cell_type": "markdown",
   "metadata": {},
   "source": [
    "Drop duplicated entries to eliminate possible entry errors, because it is impossible to have the same amount of products sold to the same places on the same day: "
   ]
  },
  {
   "cell_type": "code",
   "execution_count": 138,
   "metadata": {},
   "outputs": [
    {
     "data": {
      "text/html": [
       "<div>\n",
       "<style scoped>\n",
       "    .dataframe tbody tr th:only-of-type {\n",
       "        vertical-align: middle;\n",
       "    }\n",
       "\n",
       "    .dataframe tbody tr th {\n",
       "        vertical-align: top;\n",
       "    }\n",
       "\n",
       "    .dataframe thead th {\n",
       "        text-align: right;\n",
       "    }\n",
       "</style>\n",
       "<table border=\"1\" class=\"dataframe\">\n",
       "  <thead>\n",
       "    <tr style=\"text-align: right;\">\n",
       "      <th></th>\n",
       "      <th>Product</th>\n",
       "      <th>Region</th>\n",
       "      <th>Price</th>\n",
       "      <th>Units Sold</th>\n",
       "      <th>Sale Date</th>\n",
       "    </tr>\n",
       "  </thead>\n",
       "  <tbody>\n",
       "    <tr>\n",
       "      <th>0</th>\n",
       "      <td>NaN</td>\n",
       "      <td>Region_6</td>\n",
       "      <td>75.96</td>\n",
       "      <td>10.0</td>\n",
       "      <td>2022-01-01</td>\n",
       "    </tr>\n",
       "    <tr>\n",
       "      <th>1</th>\n",
       "      <td>NaN</td>\n",
       "      <td>Region_1</td>\n",
       "      <td>175.78</td>\n",
       "      <td>8.0</td>\n",
       "      <td>2022-01-02</td>\n",
       "    </tr>\n",
       "    <tr>\n",
       "      <th>2</th>\n",
       "      <td>Product_46</td>\n",
       "      <td>Region_3</td>\n",
       "      <td>20.43</td>\n",
       "      <td>12.0</td>\n",
       "      <td>2022-01-03</td>\n",
       "    </tr>\n",
       "    <tr>\n",
       "      <th>3</th>\n",
       "      <td>Product_36</td>\n",
       "      <td>Region_1</td>\n",
       "      <td>12.77</td>\n",
       "      <td>10.0</td>\n",
       "      <td>2022-01-04</td>\n",
       "    </tr>\n",
       "    <tr>\n",
       "      <th>4</th>\n",
       "      <td>Product_17</td>\n",
       "      <td>Region_6</td>\n",
       "      <td>125.69</td>\n",
       "      <td>6.0</td>\n",
       "      <td>2022-01-05</td>\n",
       "    </tr>\n",
       "    <tr>\n",
       "      <th>...</th>\n",
       "      <td>...</td>\n",
       "      <td>...</td>\n",
       "      <td>...</td>\n",
       "      <td>...</td>\n",
       "      <td>...</td>\n",
       "    </tr>\n",
       "    <tr>\n",
       "      <th>995</th>\n",
       "      <td>NaN</td>\n",
       "      <td>Region_7</td>\n",
       "      <td>31.83</td>\n",
       "      <td>13.0</td>\n",
       "      <td>2024-09-22</td>\n",
       "    </tr>\n",
       "    <tr>\n",
       "      <th>996</th>\n",
       "      <td>Product_36</td>\n",
       "      <td>NaN</td>\n",
       "      <td>46.19</td>\n",
       "      <td>9.0</td>\n",
       "      <td>2024-09-23</td>\n",
       "    </tr>\n",
       "    <tr>\n",
       "      <th>997</th>\n",
       "      <td>NaN</td>\n",
       "      <td>Region_7</td>\n",
       "      <td>311.80</td>\n",
       "      <td>13.0</td>\n",
       "      <td>2024-09-24</td>\n",
       "    </tr>\n",
       "    <tr>\n",
       "      <th>998</th>\n",
       "      <td>Product_2</td>\n",
       "      <td>Region_10</td>\n",
       "      <td>43.44</td>\n",
       "      <td>15.0</td>\n",
       "      <td>2024-09-25</td>\n",
       "    </tr>\n",
       "    <tr>\n",
       "      <th>999</th>\n",
       "      <td>Product_35</td>\n",
       "      <td>Region_8</td>\n",
       "      <td>56.95</td>\n",
       "      <td>6.0</td>\n",
       "      <td>2024-09-26</td>\n",
       "    </tr>\n",
       "  </tbody>\n",
       "</table>\n",
       "<p>1000 rows × 5 columns</p>\n",
       "</div>"
      ],
      "text/plain": [
       "        Product     Region   Price  Units Sold   Sale Date\n",
       "0           NaN   Region_6   75.96        10.0  2022-01-01\n",
       "1           NaN   Region_1  175.78         8.0  2022-01-02\n",
       "2    Product_46   Region_3   20.43        12.0  2022-01-03\n",
       "3    Product_36   Region_1   12.77        10.0  2022-01-04\n",
       "4    Product_17   Region_6  125.69         6.0  2022-01-05\n",
       "..          ...        ...     ...         ...         ...\n",
       "995         NaN   Region_7   31.83        13.0  2024-09-22\n",
       "996  Product_36        NaN   46.19         9.0  2024-09-23\n",
       "997         NaN   Region_7  311.80        13.0  2024-09-24\n",
       "998   Product_2  Region_10   43.44        15.0  2024-09-25\n",
       "999  Product_35   Region_8   56.95         6.0  2024-09-26\n",
       "\n",
       "[1000 rows x 5 columns]"
      ]
     },
     "execution_count": 138,
     "metadata": {},
     "output_type": "execute_result"
    }
   ],
   "source": [
    "df.drop_duplicates(inplace=True)\n",
    "df"
   ]
  },
  {
   "cell_type": "code",
   "execution_count": 139,
   "metadata": {},
   "outputs": [
    {
     "data": {
      "text/html": [
       "<div>\n",
       "<style scoped>\n",
       "    .dataframe tbody tr th:only-of-type {\n",
       "        vertical-align: middle;\n",
       "    }\n",
       "\n",
       "    .dataframe tbody tr th {\n",
       "        vertical-align: top;\n",
       "    }\n",
       "\n",
       "    .dataframe thead th {\n",
       "        text-align: right;\n",
       "    }\n",
       "</style>\n",
       "<table border=\"1\" class=\"dataframe\">\n",
       "  <thead>\n",
       "    <tr style=\"text-align: right;\">\n",
       "      <th></th>\n",
       "      <th>index</th>\n",
       "      <th>Product</th>\n",
       "      <th>Region</th>\n",
       "      <th>Price</th>\n",
       "      <th>Units Sold</th>\n",
       "      <th>Sale Date</th>\n",
       "    </tr>\n",
       "  </thead>\n",
       "  <tbody>\n",
       "    <tr>\n",
       "      <th>0</th>\n",
       "      <td>0</td>\n",
       "      <td>NaN</td>\n",
       "      <td>Region_6</td>\n",
       "      <td>75.96</td>\n",
       "      <td>10.0</td>\n",
       "      <td>2022-01-01</td>\n",
       "    </tr>\n",
       "    <tr>\n",
       "      <th>1</th>\n",
       "      <td>1</td>\n",
       "      <td>NaN</td>\n",
       "      <td>Region_1</td>\n",
       "      <td>175.78</td>\n",
       "      <td>8.0</td>\n",
       "      <td>2022-01-02</td>\n",
       "    </tr>\n",
       "    <tr>\n",
       "      <th>2</th>\n",
       "      <td>2</td>\n",
       "      <td>Product_46</td>\n",
       "      <td>Region_3</td>\n",
       "      <td>20.43</td>\n",
       "      <td>12.0</td>\n",
       "      <td>2022-01-03</td>\n",
       "    </tr>\n",
       "    <tr>\n",
       "      <th>3</th>\n",
       "      <td>3</td>\n",
       "      <td>Product_36</td>\n",
       "      <td>Region_1</td>\n",
       "      <td>12.77</td>\n",
       "      <td>10.0</td>\n",
       "      <td>2022-01-04</td>\n",
       "    </tr>\n",
       "    <tr>\n",
       "      <th>4</th>\n",
       "      <td>4</td>\n",
       "      <td>Product_17</td>\n",
       "      <td>Region_6</td>\n",
       "      <td>125.69</td>\n",
       "      <td>6.0</td>\n",
       "      <td>2022-01-05</td>\n",
       "    </tr>\n",
       "    <tr>\n",
       "      <th>...</th>\n",
       "      <td>...</td>\n",
       "      <td>...</td>\n",
       "      <td>...</td>\n",
       "      <td>...</td>\n",
       "      <td>...</td>\n",
       "      <td>...</td>\n",
       "    </tr>\n",
       "    <tr>\n",
       "      <th>895</th>\n",
       "      <td>994</td>\n",
       "      <td>Product_1</td>\n",
       "      <td>Region_4</td>\n",
       "      <td>95.24</td>\n",
       "      <td>7.0</td>\n",
       "      <td>2024-09-21</td>\n",
       "    </tr>\n",
       "    <tr>\n",
       "      <th>896</th>\n",
       "      <td>995</td>\n",
       "      <td>NaN</td>\n",
       "      <td>Region_7</td>\n",
       "      <td>31.83</td>\n",
       "      <td>13.0</td>\n",
       "      <td>2024-09-22</td>\n",
       "    </tr>\n",
       "    <tr>\n",
       "      <th>897</th>\n",
       "      <td>997</td>\n",
       "      <td>NaN</td>\n",
       "      <td>Region_7</td>\n",
       "      <td>311.80</td>\n",
       "      <td>13.0</td>\n",
       "      <td>2024-09-24</td>\n",
       "    </tr>\n",
       "    <tr>\n",
       "      <th>898</th>\n",
       "      <td>998</td>\n",
       "      <td>Product_2</td>\n",
       "      <td>Region_10</td>\n",
       "      <td>43.44</td>\n",
       "      <td>15.0</td>\n",
       "      <td>2024-09-25</td>\n",
       "    </tr>\n",
       "    <tr>\n",
       "      <th>899</th>\n",
       "      <td>999</td>\n",
       "      <td>Product_35</td>\n",
       "      <td>Region_8</td>\n",
       "      <td>56.95</td>\n",
       "      <td>6.0</td>\n",
       "      <td>2024-09-26</td>\n",
       "    </tr>\n",
       "  </tbody>\n",
       "</table>\n",
       "<p>900 rows × 6 columns</p>\n",
       "</div>"
      ],
      "text/plain": [
       "     index     Product     Region   Price  Units Sold   Sale Date\n",
       "0        0         NaN   Region_6   75.96        10.0  2022-01-01\n",
       "1        1         NaN   Region_1  175.78         8.0  2022-01-02\n",
       "2        2  Product_46   Region_3   20.43        12.0  2022-01-03\n",
       "3        3  Product_36   Region_1   12.77        10.0  2022-01-04\n",
       "4        4  Product_17   Region_6  125.69         6.0  2022-01-05\n",
       "..     ...         ...        ...     ...         ...         ...\n",
       "895    994   Product_1   Region_4   95.24         7.0  2024-09-21\n",
       "896    995         NaN   Region_7   31.83        13.0  2024-09-22\n",
       "897    997         NaN   Region_7  311.80        13.0  2024-09-24\n",
       "898    998   Product_2  Region_10   43.44        15.0  2024-09-25\n",
       "899    999  Product_35   Region_8   56.95         6.0  2024-09-26\n",
       "\n",
       "[900 rows x 6 columns]"
      ]
     },
     "execution_count": 139,
     "metadata": {},
     "output_type": "execute_result"
    }
   ],
   "source": [
    "df = df.dropna(subset='Region')\n",
    "df = df.reset_index()\n",
    "df"
   ]
  },
  {
   "attachments": {},
   "cell_type": "markdown",
   "metadata": {},
   "source": [
    "Check overall distribution of \"Units Sold\":  (with histplot and boxplot)"
   ]
  },
  {
   "cell_type": "code",
   "execution_count": 140,
   "metadata": {},
   "outputs": [
    {
     "data": {
      "text/plain": [
       "<Axes: xlabel='Units Sold', ylabel='Count'>"
      ]
     },
     "execution_count": 140,
     "metadata": {},
     "output_type": "execute_result"
    },
    {
     "data": {
      "image/png": "[encoded data removed]",
      "text/plain": [
       "<Figure size 640x480 with 1 Axes>"
      ]
     },
     "metadata": {},
     "output_type": "display_data"
    }
   ],
   "source": [
    "sns.histplot(df['Units Sold'])"
   ]
  },
  {
   "cell_type": "code",
   "execution_count": 141,
   "metadata": {},
   "outputs": [
    {
     "data": {
      "text/plain": [
       "<Axes: >"
      ]
     },
     "execution_count": 141,
     "metadata": {},
     "output_type": "execute_result"
    },
    {
     "data": {
      "image/png": "[encoded data removed]",
      "text/plain": [
       "<Figure size 640x480 with 1 Axes>"
      ]
     },
     "metadata": {},
     "output_type": "display_data"
    }
   ],
   "source": [
    "sns.boxplot(df['Units Sold'])"
   ]
  },
  {
   "attachments": {},
   "cell_type": "markdown",
   "metadata": {},
   "source": [
    "Observe Units Sold based on different regions:"
   ]
  },
  {
   "cell_type": "code",
   "execution_count": 142,
   "metadata": {},
   "outputs": [
    {
     "data": {
      "text/plain": [
       "(array([0, 1, 2, 3, 4, 5, 6, 7, 8, 9]),\n",
       " [Text(0, 0, 'Region_6'),\n",
       "  Text(1, 0, 'Region_1'),\n",
       "  Text(2, 0, 'Region_3'),\n",
       "  Text(3, 0, 'Region_7'),\n",
       "  Text(4, 0, 'Region_9'),\n",
       "  Text(5, 0, 'Region_2'),\n",
       "  Text(6, 0, 'Region_4'),\n",
       "  Text(7, 0, 'Region_5'),\n",
       "  Text(8, 0, 'Region_8'),\n",
       "  Text(9, 0, 'Region_10')])"
      ]
     },
     "execution_count": 142,
     "metadata": {},
     "output_type": "execute_result"
    },
    {
     "data": {
      "image/png": "[encoded data removed]",
      "text/plain": [
       "<Figure size 640x480 with 1 Axes>"
      ]
     },
     "metadata": {},
     "output_type": "display_data"
    }
   ],
   "source": [
    "sns.boxplot(data = df, x = 'Region', y = 'Units Sold' )\n",
    "plt.xticks(rotation = 45)"
   ]
  },
  {
   "attachments": {},
   "cell_type": "markdown",
   "metadata": {},
   "source": [
    "Check overall distribution of \"Price\":  (with histplot and boxplot)"
   ]
  },
  {
   "cell_type": "code",
   "execution_count": 143,
   "metadata": {},
   "outputs": [
    {
     "data": {
      "text/plain": [
       "(array([0, 1, 2, 3, 4, 5, 6, 7, 8, 9]),\n",
       " [Text(0, 0, 'Region_6'),\n",
       "  Text(1, 0, 'Region_1'),\n",
       "  Text(2, 0, 'Region_3'),\n",
       "  Text(3, 0, 'Region_7'),\n",
       "  Text(4, 0, 'Region_9'),\n",
       "  Text(5, 0, 'Region_2'),\n",
       "  Text(6, 0, 'Region_4'),\n",
       "  Text(7, 0, 'Region_5'),\n",
       "  Text(8, 0, 'Region_8'),\n",
       "  Text(9, 0, 'Region_10')])"
      ]
     },
     "execution_count": 143,
     "metadata": {},
     "output_type": "execute_result"
    },
    {
     "data": {
      "image/png": "[encoded data removed]",
      "text/plain": [
       "<Figure size 640x480 with 1 Axes>"
      ]
     },
     "metadata": {},
     "output_type": "display_data"
    }
   ],
   "source": [
    "sns.boxplot(data = df, x = 'Region', y = 'Price' )\n",
    "plt.xticks(rotation = 45)"
   ]
  },
  {
   "cell_type": "code",
   "execution_count": 144,
   "metadata": {},
   "outputs": [
    {
     "data": {
      "text/html": [
       "<div>\n",
       "<style scoped>\n",
       "    .dataframe tbody tr th:only-of-type {\n",
       "        vertical-align: middle;\n",
       "    }\n",
       "\n",
       "    .dataframe tbody tr th {\n",
       "        vertical-align: top;\n",
       "    }\n",
       "\n",
       "    .dataframe thead th {\n",
       "        text-align: right;\n",
       "    }\n",
       "</style>\n",
       "<table border=\"1\" class=\"dataframe\">\n",
       "  <thead>\n",
       "    <tr style=\"text-align: right;\">\n",
       "      <th></th>\n",
       "      <th>index</th>\n",
       "      <th>Product</th>\n",
       "      <th>Region</th>\n",
       "      <th>Price</th>\n",
       "      <th>Units Sold</th>\n",
       "      <th>Sale Date</th>\n",
       "    </tr>\n",
       "  </thead>\n",
       "  <tbody>\n",
       "    <tr>\n",
       "      <th>873</th>\n",
       "      <td>969</td>\n",
       "      <td>Product_15</td>\n",
       "      <td>Region_8</td>\n",
       "      <td>2143.3</td>\n",
       "      <td>5.0</td>\n",
       "      <td>2024-08-27</td>\n",
       "    </tr>\n",
       "  </tbody>\n",
       "</table>\n",
       "</div>"
      ],
      "text/plain": [
       "     index     Product    Region   Price  Units Sold   Sale Date\n",
       "873    969  Product_15  Region_8  2143.3         5.0  2024-08-27"
      ]
     },
     "execution_count": 144,
     "metadata": {},
     "output_type": "execute_result"
    }
   ],
   "source": [
    "#filter the data set and identify the outlier from region 8\n",
    "df[df['Price'] >= 1500]"
   ]
  },
  {
   "cell_type": "code",
   "execution_count": 145,
   "metadata": {},
   "outputs": [
    {
     "data": {
      "text/html": [
       "<div>\n",
       "<style scoped>\n",
       "    .dataframe tbody tr th:only-of-type {\n",
       "        vertical-align: middle;\n",
       "    }\n",
       "\n",
       "    .dataframe tbody tr th {\n",
       "        vertical-align: top;\n",
       "    }\n",
       "\n",
       "    .dataframe thead th {\n",
       "        text-align: right;\n",
       "    }\n",
       "</style>\n",
       "<table border=\"1\" class=\"dataframe\">\n",
       "  <thead>\n",
       "    <tr style=\"text-align: right;\">\n",
       "      <th></th>\n",
       "      <th>index</th>\n",
       "      <th>Product</th>\n",
       "      <th>Region</th>\n",
       "      <th>Price</th>\n",
       "      <th>Units Sold</th>\n",
       "      <th>Sale Date</th>\n",
       "    </tr>\n",
       "  </thead>\n",
       "  <tbody>\n",
       "    <tr>\n",
       "      <th>0</th>\n",
       "      <td>0</td>\n",
       "      <td>NaN</td>\n",
       "      <td>Region_6</td>\n",
       "      <td>75.96</td>\n",
       "      <td>10.0</td>\n",
       "      <td>2022-01-01</td>\n",
       "    </tr>\n",
       "    <tr>\n",
       "      <th>1</th>\n",
       "      <td>1</td>\n",
       "      <td>NaN</td>\n",
       "      <td>Region_1</td>\n",
       "      <td>175.78</td>\n",
       "      <td>8.0</td>\n",
       "      <td>2022-01-02</td>\n",
       "    </tr>\n",
       "    <tr>\n",
       "      <th>2</th>\n",
       "      <td>2</td>\n",
       "      <td>Product_46</td>\n",
       "      <td>Region_3</td>\n",
       "      <td>20.43</td>\n",
       "      <td>12.0</td>\n",
       "      <td>2022-01-03</td>\n",
       "    </tr>\n",
       "    <tr>\n",
       "      <th>3</th>\n",
       "      <td>3</td>\n",
       "      <td>Product_36</td>\n",
       "      <td>Region_1</td>\n",
       "      <td>12.77</td>\n",
       "      <td>10.0</td>\n",
       "      <td>2022-01-04</td>\n",
       "    </tr>\n",
       "    <tr>\n",
       "      <th>4</th>\n",
       "      <td>4</td>\n",
       "      <td>Product_17</td>\n",
       "      <td>Region_6</td>\n",
       "      <td>125.69</td>\n",
       "      <td>6.0</td>\n",
       "      <td>2022-01-05</td>\n",
       "    </tr>\n",
       "    <tr>\n",
       "      <th>...</th>\n",
       "      <td>...</td>\n",
       "      <td>...</td>\n",
       "      <td>...</td>\n",
       "      <td>...</td>\n",
       "      <td>...</td>\n",
       "      <td>...</td>\n",
       "    </tr>\n",
       "    <tr>\n",
       "      <th>895</th>\n",
       "      <td>994</td>\n",
       "      <td>Product_1</td>\n",
       "      <td>Region_4</td>\n",
       "      <td>95.24</td>\n",
       "      <td>7.0</td>\n",
       "      <td>2024-09-21</td>\n",
       "    </tr>\n",
       "    <tr>\n",
       "      <th>896</th>\n",
       "      <td>995</td>\n",
       "      <td>NaN</td>\n",
       "      <td>Region_7</td>\n",
       "      <td>31.83</td>\n",
       "      <td>13.0</td>\n",
       "      <td>2024-09-22</td>\n",
       "    </tr>\n",
       "    <tr>\n",
       "      <th>897</th>\n",
       "      <td>997</td>\n",
       "      <td>NaN</td>\n",
       "      <td>Region_7</td>\n",
       "      <td>311.80</td>\n",
       "      <td>13.0</td>\n",
       "      <td>2024-09-24</td>\n",
       "    </tr>\n",
       "    <tr>\n",
       "      <th>898</th>\n",
       "      <td>998</td>\n",
       "      <td>Product_2</td>\n",
       "      <td>Region_10</td>\n",
       "      <td>43.44</td>\n",
       "      <td>15.0</td>\n",
       "      <td>2024-09-25</td>\n",
       "    </tr>\n",
       "    <tr>\n",
       "      <th>899</th>\n",
       "      <td>999</td>\n",
       "      <td>Product_35</td>\n",
       "      <td>Region_8</td>\n",
       "      <td>56.95</td>\n",
       "      <td>6.0</td>\n",
       "      <td>2024-09-26</td>\n",
       "    </tr>\n",
       "  </tbody>\n",
       "</table>\n",
       "<p>899 rows × 6 columns</p>\n",
       "</div>"
      ],
      "text/plain": [
       "     index     Product     Region   Price  Units Sold   Sale Date\n",
       "0        0         NaN   Region_6   75.96        10.0  2022-01-01\n",
       "1        1         NaN   Region_1  175.78         8.0  2022-01-02\n",
       "2        2  Product_46   Region_3   20.43        12.0  2022-01-03\n",
       "3        3  Product_36   Region_1   12.77        10.0  2022-01-04\n",
       "4        4  Product_17   Region_6  125.69         6.0  2022-01-05\n",
       "..     ...         ...        ...     ...         ...         ...\n",
       "895    994   Product_1   Region_4   95.24         7.0  2024-09-21\n",
       "896    995         NaN   Region_7   31.83        13.0  2024-09-22\n",
       "897    997         NaN   Region_7  311.80        13.0  2024-09-24\n",
       "898    998   Product_2  Region_10   43.44        15.0  2024-09-25\n",
       "899    999  Product_35   Region_8   56.95         6.0  2024-09-26\n",
       "\n",
       "[899 rows x 6 columns]"
      ]
     },
     "execution_count": 145,
     "metadata": {},
     "output_type": "execute_result"
    }
   ],
   "source": [
    "df.drop(873, inplace = True)\n",
    "df"
   ]
  },
  {
   "cell_type": "code",
   "execution_count": 146,
   "metadata": {},
   "outputs": [
    {
     "data": {
      "text/plain": [
       "(array([0, 1, 2, 3, 4, 5, 6, 7, 8, 9]),\n",
       " [Text(0, 0, 'Region_6'),\n",
       "  Text(1, 0, 'Region_1'),\n",
       "  Text(2, 0, 'Region_3'),\n",
       "  Text(3, 0, 'Region_7'),\n",
       "  Text(4, 0, 'Region_9'),\n",
       "  Text(5, 0, 'Region_2'),\n",
       "  Text(6, 0, 'Region_4'),\n",
       "  Text(7, 0, 'Region_5'),\n",
       "  Text(8, 0, 'Region_8'),\n",
       "  Text(9, 0, 'Region_10')])"
      ]
     },
     "execution_count": 146,
     "metadata": {},
     "output_type": "execute_result"
    },
    {
     "data": {
      "image/png": "[encoded data removed]",
      "text/plain": [
       "<Figure size 640x480 with 1 Axes>"
      ]
     },
     "metadata": {},
     "output_type": "display_data"
    }
   ],
   "source": [
    "sns.boxplot(data = df, x = 'Region', y = 'Price' )\n",
    "plt.xticks(rotation = 45)"
   ]
  },
  {
   "cell_type": "code",
   "execution_count": null,
   "metadata": {},
   "outputs": [],
   "source": []
  },
  {
   "cell_type": "code",
   "execution_count": null,
   "metadata": {},
   "outputs": [],
   "source": []
  },
  {
   "attachments": {},
   "cell_type": "markdown",
   "metadata": {},
   "source": [
    "Question:\n",
    "1) What conclusions can you draw about sales performance of various products and regions?\n",
    "\n",
    "    Based on the box plot for regions and units sold, most regions have similar sale performance with an median units sold of 10 and similar Q1 and Q3. However, region 4 and 7 have a comparably low median. Region 4 has lower IQR but more outliers. Region 7, 8 and 10 have bigger IQR, which means they are more likely to spend more on the products.\n",
    "\n",
    "2) What recommendations do you have for the business?\n",
    "\n",
    "    Based on the box plot for regions and prices of units sold, region 2 and 8 have a larger IQR, which means they generally spend more on products and have a better business opportunity in the future. Region 6 and 7 have both lower IQR and median, which means they may not be perfect regions to expand their business. \n",
    "    Other regions have similar IQRs and medians, it is okay to continue operation but further expansion in business may not be considered.\n",
    "3) Describe your data cleaning approach. How and why did you decide on which cleaning techniques to use?\n",
    "\n",
    "    First of all, I dropped all the duplicates as it is possible to have the same transactions to the same regions in the same day. "
   ]
  },
  {
   "attachments": {},
   "cell_type": "markdown",
   "metadata": {},
   "source": []
  }
 ],
 "metadata": {
  "kernelspec": {
   "display_name": "Python 3",
   "language": "python",
   "name": "python3"
  },
  "language_info": {
   "codemirror_mode": {
    "name": "ipython",
    "version": 3
   },
   "file_extension": ".py",
   "mimetype": "text/x-python",
   "name": "python",
   "nbconvert_exporter": "python",
   "pygments_lexer": "ipython3",
   "version": "3.9.6"
  },
  "orig_nbformat": 4
 },
 "nbformat": 4,
 "nbformat_minor": 2
}
