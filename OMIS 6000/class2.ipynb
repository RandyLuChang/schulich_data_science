{
 "cells": [
  {
   "cell_type": "code",
   "execution_count": 1,
   "metadata": {},
   "outputs": [
    {
     "name": "stdout",
     "output_type": "stream",
     "text": [
      "Set parameter Username\n",
      "Academic license - for non-commercial use only - expires 2025-01-15\n"
     ]
    }
   ],
   "source": [
    "from gurobipy import GRB\n",
    "import gurobipy as gb\n",
    "\n",
    "# Create the optimization model\n",
    "model = gb.Model(\"LG Example\")"
   ]
  },
  {
   "cell_type": "code",
   "execution_count": 2,
   "metadata": {},
   "outputs": [
    {
     "data": {
      "text/plain": [
       "<gurobi.Constr *Awaiting Model Update*>"
      ]
     },
     "execution_count": 2,
     "metadata": {},
     "output_type": "execute_result"
    }
   ],
   "source": [
    "# Create the three classes of decision variables (type A, B, and C)\n",
    "a = model.addVar(lb=0, vtype=GRB.CONTINUOUS, name=\"Type A\")\n",
    "b = model.addVar(lb=0, vtype=GRB.CONTINUOUS, name=\"Type B\")\n",
    "c = model.addVar(lb=0, vtype=GRB.CONTINUOUS, name=\"Type C\")\n",
    "\n",
    "# The objective function\n",
    "model.setObjective(60*a + 75*b + 80*c, GRB.MAXIMIZE)\n",
    "\n",
    "# Add the constraints\n",
    "model.addConstr(2*a + 1.5*b + 3*c <= 10000, \"Assembly Constraint\")\n",
    "model.addConstr(a + 2*b + c <= 5000, \"Package Constraint\")\n",
    "\n",
    "# We could also define these constraints as upper bounds in the definition of the decision variables\n",
    "model.addConstr(a <= 3000, \"Order Limit Constraint (Type A)\")\n",
    "model.addConstr(b <= 2000, \"Order Limit Constraint (Type B)\")\n",
    "model.addConstr(c <= 900, \"Order Limit Constraint (Type C)\")"
   ]
  },
  {
   "cell_type": "code",
   "execution_count": 3,
   "metadata": {},
   "outputs": [
    {
     "name": "stdout",
     "output_type": "stream",
     "text": [
      "Gurobi Optimizer version 11.0.0 build v11.0.0rc2 (mac64[x86] - Darwin 22.4.0 22E261)\n",
      "\n",
      "CPU model: Intel(R) Core(TM) i5-1030NG7 CPU @ 1.10GHz\n",
      "Thread count: 4 physical cores, 8 logical processors, using up to 8 threads\n",
      "\n",
      "Optimize a model with 5 rows, 3 columns and 9 nonzeros\n",
      "Model fingerprint: 0x4d176d43\n",
      "Coefficient statistics:\n",
      "  Matrix range     [1e+00, 3e+00]\n",
      "  Objective range  [6e+01, 8e+01]\n",
      "  Bounds range     [0e+00, 0e+00]\n",
      "  RHS range        [9e+02, 1e+04]\n",
      "Presolve removed 3 rows and 0 columns\n",
      "Presolve time: 0.02s\n",
      "Presolved: 2 rows, 3 columns, 6 nonzeros\n",
      "\n",
      "Iteration    Objective       Primal Inf.    Dual Inf.      Time\n",
      "       0    5.0000000e+05   2.208333e+03   0.000000e+00      0s\n",
      "       3    2.9325000e+05   0.000000e+00   0.000000e+00      0s\n",
      "\n",
      "Solved in 3 iterations and 0.04 seconds (0.00 work units)\n",
      "Optimal objective  2.932500000e+05\n",
      "Number of Decision Variables:  3\n",
      "Model Status:  2\n",
      "293250.0\n",
      "\n",
      "    Variable            X \n",
      "-------------------------\n",
      "      Type A         3000 \n",
      "      Type B          550 \n",
      "      Type C          900 \n",
      "None\n"
     ]
    }
   ],
   "source": [
    "# Optimally solve the problem\n",
    "model.optimize()\n",
    "\n",
    "# Number of variables in the model\n",
    "print(\"Number of Decision Variables: \", model.numVars)\n",
    "\n",
    "# The status of the model (Optimization Status Codes)\n",
    "print(\"Model Status: \", model.status)\n",
    "\n",
    "# Print the objective\n",
    "print(model.ObjVal)\n",
    "\n",
    "# Print the decision variables\n",
    "print(model.printAttr('X'))"
   ]
  },
  {
   "cell_type": "markdown",
   "metadata": {},
   "source": [
    "### part2"
   ]
  },
  {
   "cell_type": "code",
   "execution_count": 4,
   "metadata": {},
   "outputs": [
    {
     "name": "stdout",
     "output_type": "stream",
     "text": [
      "Gurobi Optimizer version 11.0.0 build v11.0.0rc2 (mac64[x86] - Darwin 22.4.0 22E261)\n",
      "\n",
      "CPU model: Intel(R) Core(TM) i5-1030NG7 CPU @ 1.10GHz\n",
      "Thread count: 4 physical cores, 8 logical processors, using up to 8 threads\n",
      "\n",
      "Optimize a model with 6 rows, 9 columns and 18 nonzeros\n",
      "Model fingerprint: 0x43d91904\n",
      "Coefficient statistics:\n",
      "  Matrix range     [1e+00, 1e+00]\n",
      "  Objective range  [2e+01, 6e+01]\n",
      "  Bounds range     [0e+00, 0e+00]\n",
      "  RHS range        [2e+05, 6e+05]\n",
      "Presolve time: 0.01s\n",
      "Presolved: 6 rows, 9 columns, 18 nonzeros\n",
      "\n",
      "Iteration    Objective       Primal Inf.    Dual Inf.      Time\n",
      "       0    2.0575000e+07   2.500000e+05   0.000000e+00      0s\n",
      "       2    2.4000000e+07   0.000000e+00   0.000000e+00      0s\n",
      "\n",
      "Solved in 2 iterations and 0.02 seconds (0.00 work units)\n",
      "Optimal objective  2.400000000e+07\n",
      "Number of Decision Variables:  9\n",
      "Total Transportation cost:  24000000.0\n",
      "\n",
      "    Variable            X \n",
      "-------------------------\n",
      "Transportation Plan[0,0]       200000 \n",
      "Transportation Plan[0,2]        75000 \n",
      "Transportation Plan[1,1]       250000 \n",
      "Transportation Plan[1,2]       150000 \n",
      "Transportation Plan[2,1]       300000 \n",
      "None\n"
     ]
    }
   ],
   "source": [
    "# Create the optimization model\n",
    "model = gb.Model(\"Transportation Problem\")\n",
    "\n",
    "# A list of list of costs\n",
    "costs = [[21, 50, 40], [35, 30, 22], [55, 20, 25]]\n",
    "demand = [200000, 600000, 225000]\n",
    "supply = [275000, 400000, 300000]\n",
    "\n",
    "# Create the a single class of decision variables\n",
    "x = model.addVars(3, 3, lb=0, vtype=GRB.CONTINUOUS, name=\"Transportation Plan\")\n",
    "\n",
    "# The objective function\n",
    "model.setObjective(gb.quicksum(costs[i][j]*x[i,j] for i in range(3) for j in range(3)), GRB.MINIMIZE)\n",
    "\n",
    "# Add the supply constraints\n",
    "for i in range(3):\n",
    "    model.addConstr(gb.quicksum(x[i,j] for j in range(3)) == supply[i], name=\"Supply Constraint %i\" %i)\n",
    "\n",
    "# Add the demand constraints\n",
    "for j in range(3):\n",
    "    model.addConstr(gb.quicksum(x[i,j] for i in range(3)) <= demand[j], name=\"Demand Constraint %i\" %j)\n",
    "\n",
    "# Optimally solve the problem\n",
    "model.optimize()\n",
    "\n",
    "# Number of variables in the model\n",
    "print(\"Number of Decision Variables: \", model.numVars)\n",
    "\n",
    "# Value of the objective function\n",
    "print(\"Total Transportation cost: \", model.objVal)\n",
    "\n",
    "# Print the decision variables\n",
    "print(model.printAttr('X'))"
   ]
  },
  {
   "cell_type": "markdown",
   "metadata": {},
   "source": [
    "### Transshipment"
   ]
  },
  {
   "cell_type": "code",
   "execution_count": 5,
   "metadata": {},
   "outputs": [
    {
     "name": "stdout",
     "output_type": "stream",
     "text": [
      "Gurobi Optimizer version 11.0.0 build v11.0.0rc2 (mac64[x86] - Darwin 22.4.0 22E261)\n",
      "\n",
      "CPU model: Intel(R) Core(TM) i5-1030NG7 CPU @ 1.10GHz\n",
      "Thread count: 4 physical cores, 8 logical processors, using up to 8 threads\n",
      "\n",
      "Optimize a model with 9 rows, 12 columns and 36 nonzeros\n",
      "Model fingerprint: 0x828d4180\n",
      "Coefficient statistics:\n",
      "  Matrix range     [4e-01, 1e+00]\n",
      "  Objective range  [9e+00, 3e+01]\n",
      "  Bounds range     [0e+00, 0e+00]\n",
      "  RHS range        [8e+01, 2e+02]\n",
      "Presolve time: 0.01s\n",
      "Presolved: 9 rows, 12 columns, 36 nonzeros\n",
      "\n",
      "Iteration    Objective       Primal Inf.    Dual Inf.      Time\n",
      "       0    3.7800000e+03   4.480000e+02   0.000000e+00      0s\n",
      "       5    6.9040000e+03   0.000000e+00   0.000000e+00      0s\n",
      "\n",
      "Solved in 5 iterations and 0.02 seconds (0.00 work units)\n",
      "Optimal objective  6.904000000e+03\n",
      "Number of Decision Variables:  12\n",
      "Total Transportation cost:  6904.0\n",
      "\n",
      "    Variable            X \n",
      "-------------------------\n",
      "Source Nodes[0,1]           46 \n",
      "Source Nodes[0,2]           74 \n",
      "Source Nodes[1,0]           66 \n",
      "Source Nodes[1,3]           94 \n",
      "Transshipment Nodes[0,0]           66 \n",
      "Transshipment Nodes[1,1]           46 \n",
      "None\n"
     ]
    }
   ],
   "source": [
    "from gurobipy import GRB\n",
    "import gurobipy as gb\n",
    "\n",
    "# Create the optimization model\n",
    "model = gb.Model(\"Transshipment Problem\")\n",
    "\n",
    "# A list of list of costs\n",
    "source_costs = [[11, 10, 26, 29], [9, 12, 27, 26]]\n",
    "trans_costs = [[12, 16], [13, 15]]\n",
    "\n",
    "# Create the a single class of decision variables where\n",
    "# From = {𝑫𝒂,𝑯𝒐} and To = {𝑪𝒉,𝑳𝑨,𝑺𝑭,𝑵𝒀}.\n",
    "x = model.addVars(2, 4, lb=0, vtype=GRB.CONTINUOUS, name=\"Source Nodes\")\n",
    "# From = {𝑪𝒉,𝑳𝑨} and To = {𝑺𝑭,𝑵𝒀}.\n",
    "y = model.addVars(2, 2, lb=0, vtype=GRB.CONTINUOUS, name=\"Transshipment Nodes\")\n",
    "\n",
    "# The objective function\n",
    "source_objective = gb.quicksum(source_costs[i][j]*x[i,j] for i in range(2) for j in range(4))\n",
    "trans_objective = gb.quicksum(trans_costs[i][j]*y[i,j] for i in range(2) for j in range(2))\n",
    "model.setObjective(source_objective + trans_objective, GRB.MINIMIZE)\n",
    "\n",
    "# Add the supply constraints from source nodes\n",
    "model.addConstr(gb.quicksum(x[0,j] for j in range(4)) <= 200, name=\"Supply Constraint 1\")\n",
    "model.addConstr(gb.quicksum(x[1,j] for j in range(4)) <= 160, name=\"Supply Constraint 2\")\n",
    "    \n",
    "# Add the supply constraints from transshipment nodes\n",
    "model.addConstr(gb.quicksum(x[i,0] for i in range(2)) <= 90, name=\"Transship Capacity 1\")\n",
    "model.addConstr(gb.quicksum(x[i,1] for i in range(2)) <= 80, name=\"Transship Capacity 2\")\n",
    "\n",
    "# Add the flow balance constrainits\n",
    "model.addConstr(gb.quicksum(x[i,0] for i in range(2)) == gb.quicksum(y[0,k] for k in range(2)), name=\"Flow Balance 1\")\n",
    "model.addConstr(gb.quicksum(x[i,1] for i in range(2)) == gb.quicksum(y[1,k] for k in range(2)), name=\"Flow Balance 2\")\n",
    "\n",
    "# Add the demand constraints\n",
    "model.addConstr(gb.quicksum(x[i,2] + y[i,0] for i in range(2)) == 140, name=\"Demand Constraint 1\")\n",
    "model.addConstr(gb.quicksum(x[i,3] + y[i,1] for i in range(2)) == 140, name=\"Demand Constraint 2\")\n",
    "\n",
    "# Ratio constraint\n",
    "model.addConstr(0.6*gb.quicksum(y[i,j] for i in range(2) for j in range(2)) <= 0.4*gb.quicksum(x[i,j] for i in range(2) for j in range(2,4)), name=\"Ratio constraint\")\n",
    "\n",
    "# Optimally solve the problem\n",
    "model.optimize()\n",
    "\n",
    "# Number of variables in the model\n",
    "print(\"Number of Decision Variables: \", model.numVars)\n",
    "\n",
    "# Value of the objective function\n",
    "print(\"Total Transportation cost: \", model.objVal)\n",
    "\n",
    "# Print the decision variables\n",
    "print(model.printAttr('X'))"
   ]
  },
  {
   "cell_type": "code",
   "execution_count": null,
   "metadata": {},
   "outputs": [],
   "source": []
  }
 ],
 "metadata": {
  "kernelspec": {
   "display_name": "Python 3",
   "language": "python",
   "name": "python3"
  },
  "language_info": {
   "codemirror_mode": {
    "name": "ipython",
    "version": 3
   },
   "file_extension": ".py",
   "mimetype": "text/x-python",
   "name": "python",
   "nbconvert_exporter": "python",
   "pygments_lexer": "ipython3",
   "version": "3.9.6"
  }
 },
 "nbformat": 4,
 "nbformat_minor": 2
}
